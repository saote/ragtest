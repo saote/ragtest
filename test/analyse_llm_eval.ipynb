{
 "cells": [
  {
   "cell_type": "code",
   "execution_count": 12,
   "metadata": {},
   "outputs": [],
   "source": [
    "import pandas as pd"
   ]
  },
  {
   "cell_type": "code",
   "execution_count": 69,
   "metadata": {},
   "outputs": [
    {
     "data": {
      "text/html": [
       "<div>\n",
       "<style scoped>\n",
       "    .dataframe tbody tr th:only-of-type {\n",
       "        vertical-align: middle;\n",
       "    }\n",
       "\n",
       "    .dataframe tbody tr th {\n",
       "        vertical-align: top;\n",
       "    }\n",
       "\n",
       "    .dataframe thead th {\n",
       "        text-align: right;\n",
       "    }\n",
       "</style>\n",
       "<table border=\"1\" class=\"dataframe\">\n",
       "  <thead>\n",
       "    <tr style=\"text-align: right;\">\n",
       "      <th></th>\n",
       "      <th>Question</th>\n",
       "      <th>Comprehensiveness</th>\n",
       "      <th>Diversity</th>\n",
       "      <th>Empowerment</th>\n",
       "      <th>Directness</th>\n",
       "    </tr>\n",
       "  </thead>\n",
       "  <tbody>\n",
       "    <tr>\n",
       "      <th>0</th>\n",
       "      <td>- How does Graph RAG enhance the capabilities ...</td>\n",
       "      <td>0</td>\n",
       "      <td>0</td>\n",
       "      <td>0</td>\n",
       "      <td>0</td>\n",
       "    </tr>\n",
       "    <tr>\n",
       "      <th>1</th>\n",
       "      <td>- What are the unique capabilities of Graph RA...</td>\n",
       "      <td>1</td>\n",
       "      <td>1</td>\n",
       "      <td>1</td>\n",
       "      <td>1</td>\n",
       "    </tr>\n",
       "    <tr>\n",
       "      <th>2</th>\n",
       "      <td>- In what ways does Graph RAG use a self-gener...</td>\n",
       "      <td>0</td>\n",
       "      <td>0</td>\n",
       "      <td>0</td>\n",
       "      <td>0</td>\n",
       "    </tr>\n",
       "    <tr>\n",
       "      <th>3</th>\n",
       "      <td>- How does Graph RAG demonstrate scalability a...</td>\n",
       "      <td>1</td>\n",
       "      <td>1</td>\n",
       "      <td>1</td>\n",
       "      <td>1</td>\n",
       "    </tr>\n",
       "    <tr>\n",
       "      <th>4</th>\n",
       "      <td>- What is the relationship between Graph RAG a...</td>\n",
       "      <td>Tie</td>\n",
       "      <td>Tie</td>\n",
       "      <td>1</td>\n",
       "      <td>Tie</td>\n",
       "    </tr>\n",
       "  </tbody>\n",
       "</table>\n",
       "</div>"
      ],
      "text/plain": [
       "                                            Question Comprehensiveness  \\\n",
       "0  - How does Graph RAG enhance the capabilities ...                 0   \n",
       "1  - What are the unique capabilities of Graph RA...                 1   \n",
       "2  - In what ways does Graph RAG use a self-gener...                 0   \n",
       "3  - How does Graph RAG demonstrate scalability a...                 1   \n",
       "4  - What is the relationship between Graph RAG a...               Tie   \n",
       "\n",
       "  Diversity Empowerment Directness  \n",
       "0         0           0          0  \n",
       "1         1           1          1  \n",
       "2         0           0          0  \n",
       "3         1           1          1  \n",
       "4       Tie           1        Tie  "
      ]
     },
     "execution_count": 69,
     "metadata": {},
     "output_type": "execute_result"
    }
   ],
   "source": [
    "# topic = 'stat_textbook'\n",
    "topic = 'GraphRAG'\n",
    "df = pd.read_csv(f'../test_results/{topic}/evaluate.csv')\n",
    "# df = df[:20]\n",
    "df.head()"
   ]
  },
  {
   "cell_type": "code",
   "execution_count": 47,
   "metadata": {},
   "outputs": [],
   "source": [
    "def get_win_rate(df):  \n",
    "  # Counting occurrences\n",
    "    evaluation_columns =  ['Comprehensiveness', 'Diversity', 'Empowerment', 'Directness']\n",
    "\n",
    "    num_questions = df.shape[0]\n",
    "    # Initialize a dictionary to hold the value counts\n",
    "    counts_dict = {col: df[col].value_counts()/num_questions for col in evaluation_columns}\n",
    "\n",
    "    # Convert the dictionary of Series into a DataFrame\n",
    "    value_rate_df = pd.DataFrame(counts_dict)\n",
    "\n",
    "    # Replace NaN with 0 to indicate no occurrences of that category in some columns\n",
    "    value_rate_df.fillna(0, inplace=True)\n",
    "\n",
    "    value_rate_df['total'] = value_rate_df[evaluation_columns].mean(axis=1)\n",
    "\n",
    "    return value_rate_df\n"
   ]
  },
  {
   "cell_type": "markdown",
   "metadata": {},
   "source": []
  },
  {
   "cell_type": "code",
   "execution_count": 65,
   "metadata": {},
   "outputs": [
    {
     "data": {
      "text/html": [
       "<div>\n",
       "<style scoped>\n",
       "    .dataframe tbody tr th:only-of-type {\n",
       "        vertical-align: middle;\n",
       "    }\n",
       "\n",
       "    .dataframe tbody tr th {\n",
       "        vertical-align: top;\n",
       "    }\n",
       "\n",
       "    .dataframe thead th {\n",
       "        text-align: right;\n",
       "    }\n",
       "</style>\n",
       "<table border=\"1\" class=\"dataframe\">\n",
       "  <thead>\n",
       "    <tr style=\"text-align: right;\">\n",
       "      <th></th>\n",
       "      <th>Comprehensiveness</th>\n",
       "      <th>Diversity</th>\n",
       "      <th>Empowerment</th>\n",
       "      <th>Directness</th>\n",
       "      <th>total</th>\n",
       "    </tr>\n",
       "  </thead>\n",
       "  <tbody>\n",
       "    <tr>\n",
       "      <th>0</th>\n",
       "      <td>0.464286</td>\n",
       "      <td>0.482143</td>\n",
       "      <td>0.553571</td>\n",
       "      <td>0.285714</td>\n",
       "      <td>0.446429</td>\n",
       "    </tr>\n",
       "    <tr>\n",
       "      <th>1</th>\n",
       "      <td>0.321429</td>\n",
       "      <td>0.303571</td>\n",
       "      <td>0.375000</td>\n",
       "      <td>0.428571</td>\n",
       "      <td>0.357143</td>\n",
       "    </tr>\n",
       "    <tr>\n",
       "      <th>Tie</th>\n",
       "      <td>0.214286</td>\n",
       "      <td>0.214286</td>\n",
       "      <td>0.071429</td>\n",
       "      <td>0.285714</td>\n",
       "      <td>0.196429</td>\n",
       "    </tr>\n",
       "  </tbody>\n",
       "</table>\n",
       "</div>"
      ],
      "text/plain": [
       "     Comprehensiveness  Diversity  Empowerment  Directness     total\n",
       "0             0.464286   0.482143     0.553571    0.285714  0.446429\n",
       "1             0.321429   0.303571     0.375000    0.428571  0.357143\n",
       "Tie           0.214286   0.214286     0.071429    0.285714  0.196429"
      ]
     },
     "execution_count": 65,
     "metadata": {},
     "output_type": "execute_result"
    }
   ],
   "source": [
    "value_counts_df = get_win_rate(df)\n",
    "value_counts_df.to_csv(f'../test_results/{topic}/eval_statistics.csv', index=False, encoding='utf-8')\n",
    "value_counts_df"
   ]
  },
  {
   "cell_type": "markdown",
   "metadata": {},
   "source": [
    "## histogram of result statistics"
   ]
  },
  {
   "cell_type": "code",
   "execution_count": 66,
   "metadata": {},
   "outputs": [
    {
     "data": {
      "image/png": "[encoded data removed]",
      "text/plain": [
       "<Figure size 640x480 with 1 Axes>"
      ]
     },
     "metadata": {},
     "output_type": "display_data"
    }
   ],
   "source": [
    "import matplotlib.pyplot as plt\n",
    "import numpy as np\n",
    "\n",
    "\n",
    "metrics = ['Comprehensiveness', 'Diversity', 'Empowerment', 'Directness', 'Total']\n",
    "rag_wins = value_counts_df.iloc[0]\n",
    "graph_rag_wins = value_counts_df.iloc[1]\n",
    "ties = value_counts_df.iloc[2]\n",
    "\n",
    "x = np.arange(len(metrics))  # the label locations\n",
    "width = 0.25  # the width of the bars\n",
    "\n",
    "fig, ax = plt.subplots()\n",
    "rects1 = ax.bar(x - width, rag_wins, width, label='RAG')\n",
    "rects2 = ax.bar(x, graph_rag_wins, width, label='Graph RAG')\n",
    "rects3 = ax.bar(x + width, ties, width, label='Tie')\n",
    "\n",
    "# Add some text for labels, title and custom x-axis tick labels, etc.\n",
    "ax.set_xlabel('Metrics')\n",
    "ax.set_ylabel('Win Rates')\n",
    "ax.set_title(f'Win Rates of RAG and GraphRAG of {topic}')\n",
    "ax.set_xticks(x)\n",
    "ax.set_xticklabels(metrics)\n",
    "ax.legend()\n",
    "\n",
    "# ax.bar_label(rects1, padding=3)\n",
    "# ax.bar_label(rects2, padding=3)\n",
    "# ax.bar_label(rects3, padding=3)\n",
    "\n",
    "fig.tight_layout()\n",
    "\n",
    "plt.show()\n"
   ]
  },
  {
   "cell_type": "markdown",
   "metadata": {},
   "source": [
    "### statistics with different cognitive demands"
   ]
  },
  {
   "cell_type": "code",
   "execution_count": 23,
   "metadata": {},
   "outputs": [
    {
     "data": {
      "text/html": [
       "<div>\n",
       "<style scoped>\n",
       "    .dataframe tbody tr th:only-of-type {\n",
       "        vertical-align: middle;\n",
       "    }\n",
       "\n",
       "    .dataframe tbody tr th {\n",
       "        vertical-align: top;\n",
       "    }\n",
       "\n",
       "    .dataframe thead th {\n",
       "        text-align: right;\n",
       "    }\n",
       "</style>\n",
       "<table border=\"1\" class=\"dataframe\">\n",
       "  <thead>\n",
       "    <tr style=\"text-align: right;\">\n",
       "      <th></th>\n",
       "      <th>Question</th>\n",
       "      <th>Global_understanding</th>\n",
       "      <th>Reasoning_capabilities</th>\n",
       "      <th>Deep_contextual_understanding</th>\n",
       "      <th>Question_type</th>\n",
       "    </tr>\n",
       "  </thead>\n",
       "  <tbody>\n",
       "    <tr>\n",
       "      <th>0</th>\n",
       "      <td>How does Graph RAG enhance the capabilities of...</td>\n",
       "      <td>True</td>\n",
       "      <td>True</td>\n",
       "      <td>True</td>\n",
       "      <td>reasoning</td>\n",
       "    </tr>\n",
       "    <tr>\n",
       "      <th>1</th>\n",
       "      <td>What are the unique capabilities of Graph RAG ...</td>\n",
       "      <td>True</td>\n",
       "      <td>True</td>\n",
       "      <td>True</td>\n",
       "      <td>reasoning</td>\n",
       "    </tr>\n",
       "    <tr>\n",
       "      <th>2</th>\n",
       "      <td>In what ways does Graph RAG use a self-generat...</td>\n",
       "      <td>True</td>\n",
       "      <td>True</td>\n",
       "      <td>True</td>\n",
       "      <td>explanatory</td>\n",
       "    </tr>\n",
       "    <tr>\n",
       "      <th>3</th>\n",
       "      <td>How does Graph RAG demonstrate scalability adv...</td>\n",
       "      <td>True</td>\n",
       "      <td>True</td>\n",
       "      <td>True</td>\n",
       "      <td>reasoning</td>\n",
       "    </tr>\n",
       "    <tr>\n",
       "      <th>4</th>\n",
       "      <td>What is the relationship between Graph RAG and...</td>\n",
       "      <td>True</td>\n",
       "      <td>True</td>\n",
       "      <td>True</td>\n",
       "      <td>reasoning</td>\n",
       "    </tr>\n",
       "    <tr>\n",
       "      <th>5</th>\n",
       "      <td>How does Graph RAG's federated retrieval-gener...</td>\n",
       "      <td>True</td>\n",
       "      <td>True</td>\n",
       "      <td>True</td>\n",
       "      <td>explanatory</td>\n",
       "    </tr>\n",
       "    <tr>\n",
       "      <th>6</th>\n",
       "      <td>What are the similarities between Graph RAG an...</td>\n",
       "      <td>True</td>\n",
       "      <td>True</td>\n",
       "      <td>True</td>\n",
       "      <td>reasoning</td>\n",
       "    </tr>\n",
       "    <tr>\n",
       "      <th>7</th>\n",
       "      <td>How does Graph RAG compare to multi-hop questi...</td>\n",
       "      <td>True</td>\n",
       "      <td>True</td>\n",
       "      <td>True</td>\n",
       "      <td>reasoning</td>\n",
       "    </tr>\n",
       "    <tr>\n",
       "      <th>8</th>\n",
       "      <td>What is the process involved in the Graph RAG ...</td>\n",
       "      <td>True</td>\n",
       "      <td>False</td>\n",
       "      <td>True</td>\n",
       "      <td>explanatory</td>\n",
       "    </tr>\n",
       "    <tr>\n",
       "      <th>9</th>\n",
       "      <td>How does the Indexer in Graph RAG process and ...</td>\n",
       "      <td>False</td>\n",
       "      <td>False</td>\n",
       "      <td>True</td>\n",
       "      <td>explanatory</td>\n",
       "    </tr>\n",
       "  </tbody>\n",
       "</table>\n",
       "</div>"
      ],
      "text/plain": [
       "                                            Question  Global_understanding  \\\n",
       "0  How does Graph RAG enhance the capabilities of...                  True   \n",
       "1  What are the unique capabilities of Graph RAG ...                  True   \n",
       "2  In what ways does Graph RAG use a self-generat...                  True   \n",
       "3  How does Graph RAG demonstrate scalability adv...                  True   \n",
       "4  What is the relationship between Graph RAG and...                  True   \n",
       "5  How does Graph RAG's federated retrieval-gener...                  True   \n",
       "6  What are the similarities between Graph RAG an...                  True   \n",
       "7  How does Graph RAG compare to multi-hop questi...                  True   \n",
       "8  What is the process involved in the Graph RAG ...                  True   \n",
       "9  How does the Indexer in Graph RAG process and ...                 False   \n",
       "\n",
       "   Reasoning_capabilities  Deep_contextual_understanding Question_type  \n",
       "0                    True                           True     reasoning  \n",
       "1                    True                           True     reasoning  \n",
       "2                    True                           True   explanatory  \n",
       "3                    True                           True     reasoning  \n",
       "4                    True                           True     reasoning  \n",
       "5                    True                           True   explanatory  \n",
       "6                    True                           True     reasoning  \n",
       "7                    True                           True     reasoning  \n",
       "8                   False                           True   explanatory  \n",
       "9                   False                           True   explanatory  "
      ]
     },
     "execution_count": 23,
     "metadata": {},
     "output_type": "execute_result"
    }
   ],
   "source": [
    "cat_df = pd.read_csv('../test_results/GraphRAG/questions_cat.csv')\n",
    "cat_df.head(10)"
   ]
  },
  {
   "cell_type": "code",
   "execution_count": 18,
   "metadata": {},
   "outputs": [
    {
     "name": "stdout",
     "output_type": "stream",
     "text": [
      "num of records: 35\n",
      "     Comprehensiveness  Diversity  Empowerment  Directness     total\n",
      "0             0.600000   0.571429     0.685714    0.257143  0.528571\n",
      "1             0.285714   0.314286     0.314286    0.371429  0.321429\n",
      "Tie           0.114286   0.114286     0.000000    0.371429  0.150000\n"
     ]
    }
   ],
   "source": [
    "df_true = df[(cat_df['Global_understanding'] == True) & (cat_df['Reasoning_capabilities'] == True)]\n",
    "true_rate_df = get_win_rate(df_true)\n",
    "print('num of records: ' + str(df_true.shape[0]))\n",
    "print(true_rate_df)\n"
   ]
  },
  {
   "cell_type": "code",
   "execution_count": 19,
   "metadata": {},
   "outputs": [
    {
     "name": "stdout",
     "output_type": "stream",
     "text": [
      "num of records: 16\n",
      "     Comprehensiveness  Diversity  Empowerment  Directness     total\n",
      "0               0.4375     0.5000       0.6250      0.3750  0.484375\n",
      "1               0.1875     0.1875       0.1875      0.4375  0.250000\n",
      "Tie             0.3750     0.3125       0.1875      0.1875  0.265625\n"
     ]
    }
   ],
   "source": [
    "df_false = df[(cat_df['Global_understanding'] == False) & (cat_df['Reasoning_capabilities'] == False)]\n",
    "false_rate_df = get_win_rate(df_false)\n",
    "print('num of records: ' + str(df_false.shape[0]))\n",
    "print(false_rate_df)"
   ]
  },
  {
   "cell_type": "code",
   "execution_count": 20,
   "metadata": {},
   "outputs": [
    {
     "name": "stdout",
     "output_type": "stream",
     "text": [
      "reasoning\n",
      "num of records: 19\n",
      "     Comprehensiveness  Diversity  Empowerment  Directness     total\n",
      "0             0.421053   0.526316     0.526316    0.263158  0.434211\n",
      "1             0.421053   0.421053     0.473684    0.368421  0.421053\n",
      "Tie           0.157895   0.052632     0.000000    0.368421  0.144737\n",
      "\n",
      "explanatory\n",
      "num of records: 34\n",
      "     Comprehensiveness  Diversity  Empowerment  Directness     total\n",
      "0             0.676471   0.529412     0.764706    0.382353  0.588235\n",
      "1             0.117647   0.235294     0.117647    0.382353  0.213235\n",
      "Tie           0.205882   0.235294     0.117647    0.235294  0.198529\n",
      "\n",
      "factual\n",
      "num of records: 3\n",
      "     Comprehensiveness  Diversity  Empowerment  Directness     total\n",
      "0             0.000000   0.333333     0.333333    0.000000  0.166667\n",
      "1             0.333333   0.000000     0.333333    0.666667  0.333333\n",
      "Tie           0.666667   0.666667     0.333333    0.333333  0.500000\n",
      "\n"
     ]
    }
   ],
   "source": [
    "question_types = ['reasoning', 'explanatory', 'factual']\n",
    "\n",
    "for type in question_types:\n",
    "    type_df = df[cat_df['Question_type'] == type]\n",
    "    rate_df = get_win_rate(type_df)\n",
    "    print(type)\n",
    "    print('num of records: ' + str(type_df.shape[0]))\n",
    "    print(rate_df)\n",
    "    print()\n",
    "    "
   ]
  },
  {
   "cell_type": "markdown",
   "metadata": {},
   "source": [
    "### Tokens used"
   ]
  },
  {
   "cell_type": "code",
   "execution_count": 36,
   "metadata": {},
   "outputs": [],
   "source": [
    "from transformers import BertTokenizer\n",
    "\n",
    "def count_tokens(text):\n",
    "    tokenizer = BertTokenizer.from_pretrained('bert-base-uncased')\n",
    "    tokens = tokenizer.tokenize(text)\n",
    "    return len(tokens)\n",
    "\n"
   ]
  },
  {
   "cell_type": "code",
   "execution_count": 51,
   "metadata": {},
   "outputs": [
    {
     "name": "stdout",
     "output_type": "stream",
     "text": [
      "average tokens in RAG response: 1289.62\n"
     ]
    }
   ],
   "source": [
    "df_rag = pd.read_csv(f'../test_results/{topic}/RAG_result.csv')\n",
    "num_tokens = df_rag['RAG Answer'].apply(count_tokens)\n",
    "print(\"average tokens in RAG response: \" + str(num_tokens.mean()))"
   ]
  },
  {
   "cell_type": "code",
   "execution_count": 45,
   "metadata": {},
   "outputs": [
    {
     "name": "stdout",
     "output_type": "stream",
     "text": [
      "average tokens in Grpah RAG response: 743.6071428571429\n"
     ]
    }
   ],
   "source": [
    "df_graph_rag = pd.read_csv(f'../test_results/{topic}/GraphRAG_results.csv')\n",
    "num_tokens = df_graph_rag['Graph RAG answer'].apply(count_tokens)\n",
    "print(\"average tokens in Graph RAG response: \" + str(num_tokens.mean()))"
   ]
  }
 ],
 "metadata": {
  "kernelspec": {
   "display_name": "base",
   "language": "python",
   "name": "python3"
  },
  "language_info": {
   "codemirror_mode": {
    "name": "ipython",
    "version": 3
   },
   "file_extension": ".py",
   "mimetype": "text/x-python",
   "name": "python",
   "nbconvert_exporter": "python",
   "pygments_lexer": "ipython3",
   "version": "3.11.7"
  }
 },
 "nbformat": 4,
 "nbformat_minor": 2
}
